{
  "cells": [
    {
      "cell_type": "markdown",
      "metadata": {
        "id": "E7Z54ZYa7UG7"
      },
      "source": [
        "# Proyecto Daniel procesos II\n",
        "\n",
        "\n"
      ]
    },
    {
      "cell_type": "markdown",
      "metadata": {
        "id": "ITDDHbSaavgl"
      },
      "source": [
        "## Drive y librerias"
      ]
    },
    {
      "cell_type": "code",
      "execution_count": null,
      "metadata": {
        "colab": {
          "base_uri": "https://localhost:8080/"
        },
        "id": "r-KF4GIt7b3y",
        "outputId": "8e8a24ab-4a18-49e7-9cd6-3bc0b0f51300"
      },
      "outputs": [
        {
          "name": "stdout",
          "output_type": "stream",
          "text": [
            "Mounted at /content/drive\n"
          ]
        }
      ],
      "source": [
        "from google.colab import drive\n",
        "drive.mount('/content/drive')"
      ]
    },
    {
      "cell_type": "code",
      "execution_count": null,
      "metadata": {
        "id": "L-YD4S9I7luL"
      },
      "outputs": [],
      "source": [
        "import numpy as np\n",
        "import pandas as pd\n",
        "import statsmodels.api as sm\n",
        "\n",
        "# Gráficos\n",
        "# ==============================================================================\n",
        "import matplotlib.pyplot as plt\n",
        "import matplotlib.font_manager\n",
        "from matplotlib import style\n",
        "style.use('ggplot') or plt.style.use('ggplot')\n",
        "import seaborn as sns\n",
        "import plotly.express as px\n",
        "from plotly.subplots import make_subplots\n",
        "import plotly.graph_objects as go\n",
        "\n",
        "# Preprocesado y modelado\n",
        "# ==============================================================================\n",
        "from sklearn.decomposition import PCA\n",
        "from sklearn.cluster import KMeans # KMeans clustering\n",
        "from sklearn.pipeline import make_pipeline\n",
        "from sklearn.preprocessing import StandardScaler\n",
        "from sklearn.preprocessing import scale\n",
        "from sklearn.datasets import make_blobs\n",
        "\n",
        "import glob\n",
        "import os\n",
        "\n",
        "import functools\n",
        "from functools import reduce"
      ]
    },
    {
      "cell_type": "markdown",
      "metadata": {
        "id": "Pe6O858O8QjS"
      },
      "source": [
        "## Datos control - Sanos Datos con Deterioro"
      ]
    },
    {
      "cell_type": "code",
      "execution_count": null,
      "metadata": {
        "id": "5w9IYOu79VxH"
      },
      "outputs": [],
      "source": [
        "df1= pd.read_csv(r'/content/drive/MyDrive/Universidad/9Noveno/Procesos II/CN.tsv') #Sanos\n",
        "df2= pd.read_csv(r'/content/drive/MyDrive/Universidad/9Noveno/Procesos II/MCI.tsv') #Deterioro\n",
        "df1['label']=0 #Sanos\n",
        "df2['label']=1 #Deterioro"
      ]
    },
    {
      "cell_type": "code",
      "execution_count": null,
      "metadata": {
        "colab": {
          "base_uri": "https://localhost:8080/"
        },
        "id": "rloGP3C9J-z0",
        "outputId": "379c69bc-0e02-48c7-86ca-637f6f0e1fd0"
      },
      "outputs": [
        {
          "name": "stdout",
          "output_type": "stream",
          "text": [
            "<class 'pandas.core.frame.DataFrame'>\n",
            "RangeIndex: 12358 entries, 0 to 12357\n",
            "Columns: 2394 entries, Unnamed: 0 to label\n",
            "dtypes: float64(2392), int64(2)\n",
            "memory usage: 225.7 MB\n"
          ]
        }
      ],
      "source": [
        "df1.info()"
      ]
    },
    {
      "cell_type": "code",
      "execution_count": null,
      "metadata": {
        "colab": {
          "base_uri": "https://localhost:8080/"
        },
        "id": "8vjHEs5tsZ10",
        "outputId": "7b9c53f5-bffb-4fb0-a7c9-0af6f06caacd"
      },
      "outputs": [
        {
          "name": "stdout",
          "output_type": "stream",
          "text": [
            "<class 'pandas.core.frame.DataFrame'>\n",
            "RangeIndex: 18278 entries, 0 to 18277\n",
            "Columns: 2394 entries, Unnamed: 0 to label\n",
            "dtypes: float64(2392), int64(2)\n",
            "memory usage: 333.8 MB\n"
          ]
        }
      ],
      "source": [
        "df2.info()"
      ]
    },
    {
      "cell_type": "markdown",
      "metadata": {
        "id": "x0Gq2EHR4_5N"
      },
      "source": [
        "## EDA"
      ]
    },
    {
      "cell_type": "code",
      "execution_count": null,
      "metadata": {
        "colab": {
          "base_uri": "https://localhost:8080/",
          "height": 394
        },
        "id": "GL3JjK784_Gc",
        "outputId": "fb997d21-d513-46db-8dd3-b1f48a5b5899"
      },
      "outputs": [
        {
          "data": {
            "text/html": [
              "\n",
              "  <div id=\"df-e9cdc592-e67a-4c56-9476-7cd40e3dd71c\">\n",
              "    <div class=\"colab-df-container\">\n",
              "      <div>\n",
              "<style scoped>\n",
              "    .dataframe tbody tr th:only-of-type {\n",
              "        vertical-align: middle;\n",
              "    }\n",
              "\n",
              "    .dataframe tbody tr th {\n",
              "        vertical-align: top;\n",
              "    }\n",
              "\n",
              "    .dataframe thead th {\n",
              "        text-align: right;\n",
              "    }\n",
              "</style>\n",
              "<table border=\"1\" class=\"dataframe\">\n",
              "  <thead>\n",
              "    <tr style=\"text-align: right;\">\n",
              "      <th></th>\n",
              "      <th>Unnamed: 0</th>\n",
              "      <th>rh_bankssts_curvind</th>\n",
              "      <th>rh_caudalanteriorcingulate_curvind</th>\n",
              "      <th>rh_caudalmiddlefrontal_curvind</th>\n",
              "      <th>rh_cuneus_curvind</th>\n",
              "      <th>rh_entorhinal_curvind</th>\n",
              "      <th>rh_fusiform_curvind</th>\n",
              "      <th>rh_inferiorparietal_curvind</th>\n",
              "      <th>rh_inferiortemporal_curvind</th>\n",
              "      <th>rh_isthmuscingulate_curvind</th>\n",
              "      <th>...</th>\n",
              "      <th>rh_27_foldind</th>\n",
              "      <th>rh_28_foldind</th>\n",
              "      <th>rh_29_foldind</th>\n",
              "      <th>rh_30_foldind</th>\n",
              "      <th>rh_31_foldind</th>\n",
              "      <th>rh_32_foldind</th>\n",
              "      <th>rh_33_foldind</th>\n",
              "      <th>rh_34_foldind</th>\n",
              "      <th>rh_35_foldind</th>\n",
              "      <th>label</th>\n",
              "    </tr>\n",
              "  </thead>\n",
              "  <tbody>\n",
              "    <tr>\n",
              "      <th>count</th>\n",
              "      <td>12358.000000</td>\n",
              "      <td>12358.000000</td>\n",
              "      <td>12358.000000</td>\n",
              "      <td>12358.000000</td>\n",
              "      <td>12358.000000</td>\n",
              "      <td>12358.000000</td>\n",
              "      <td>12358.000000</td>\n",
              "      <td>12358.000000</td>\n",
              "      <td>12358.000000</td>\n",
              "      <td>12358.000000</td>\n",
              "      <td>...</td>\n",
              "      <td>12358.000000</td>\n",
              "      <td>12358.000000</td>\n",
              "      <td>12358.000000</td>\n",
              "      <td>12358.000000</td>\n",
              "      <td>12358.000000</td>\n",
              "      <td>12358.000000</td>\n",
              "      <td>12358.000000</td>\n",
              "      <td>12358.000000</td>\n",
              "      <td>12358.000000</td>\n",
              "      <td>12358.0</td>\n",
              "    </tr>\n",
              "    <tr>\n",
              "      <th>mean</th>\n",
              "      <td>83.000000</td>\n",
              "      <td>0.012300</td>\n",
              "      <td>0.013141</td>\n",
              "      <td>0.041390</td>\n",
              "      <td>0.042547</td>\n",
              "      <td>0.008707</td>\n",
              "      <td>0.062000</td>\n",
              "      <td>0.105834</td>\n",
              "      <td>0.067260</td>\n",
              "      <td>0.018514</td>\n",
              "      <td>...</td>\n",
              "      <td>0.693016</td>\n",
              "      <td>0.656863</td>\n",
              "      <td>0.638085</td>\n",
              "      <td>0.677053</td>\n",
              "      <td>0.632703</td>\n",
              "      <td>0.618054</td>\n",
              "      <td>0.693082</td>\n",
              "      <td>0.498695</td>\n",
              "      <td>0.718033</td>\n",
              "      <td>0.0</td>\n",
              "    </tr>\n",
              "    <tr>\n",
              "      <th>std</th>\n",
              "      <td>48.209834</td>\n",
              "      <td>0.109761</td>\n",
              "      <td>0.115521</td>\n",
              "      <td>0.365226</td>\n",
              "      <td>0.368511</td>\n",
              "      <td>0.083241</td>\n",
              "      <td>0.537465</td>\n",
              "      <td>0.928932</td>\n",
              "      <td>0.586813</td>\n",
              "      <td>0.161887</td>\n",
              "      <td>...</td>\n",
              "      <td>5.958063</td>\n",
              "      <td>5.640279</td>\n",
              "      <td>5.531940</td>\n",
              "      <td>5.855830</td>\n",
              "      <td>5.436580</td>\n",
              "      <td>5.314772</td>\n",
              "      <td>6.001371</td>\n",
              "      <td>4.335359</td>\n",
              "      <td>6.340192</td>\n",
              "      <td>0.0</td>\n",
              "    </tr>\n",
              "    <tr>\n",
              "      <th>min</th>\n",
              "      <td>0.000000</td>\n",
              "      <td>0.000000</td>\n",
              "      <td>0.000000</td>\n",
              "      <td>0.000000</td>\n",
              "      <td>0.000000</td>\n",
              "      <td>0.000000</td>\n",
              "      <td>0.000000</td>\n",
              "      <td>0.000000</td>\n",
              "      <td>0.000000</td>\n",
              "      <td>0.000000</td>\n",
              "      <td>...</td>\n",
              "      <td>0.000000</td>\n",
              "      <td>0.000000</td>\n",
              "      <td>0.000000</td>\n",
              "      <td>0.000000</td>\n",
              "      <td>0.000000</td>\n",
              "      <td>0.000000</td>\n",
              "      <td>0.000000</td>\n",
              "      <td>0.000000</td>\n",
              "      <td>0.000000</td>\n",
              "      <td>0.0</td>\n",
              "    </tr>\n",
              "    <tr>\n",
              "      <th>25%</th>\n",
              "      <td>41.000000</td>\n",
              "      <td>0.000000</td>\n",
              "      <td>0.000000</td>\n",
              "      <td>0.000000</td>\n",
              "      <td>0.000000</td>\n",
              "      <td>0.000000</td>\n",
              "      <td>0.000000</td>\n",
              "      <td>0.000000</td>\n",
              "      <td>0.000000</td>\n",
              "      <td>0.000000</td>\n",
              "      <td>...</td>\n",
              "      <td>0.000000</td>\n",
              "      <td>0.000000</td>\n",
              "      <td>0.000000</td>\n",
              "      <td>0.000000</td>\n",
              "      <td>0.000000</td>\n",
              "      <td>0.000000</td>\n",
              "      <td>0.000000</td>\n",
              "      <td>0.000000</td>\n",
              "      <td>0.000000</td>\n",
              "      <td>0.0</td>\n",
              "    </tr>\n",
              "    <tr>\n",
              "      <th>50%</th>\n",
              "      <td>83.000000</td>\n",
              "      <td>0.000000</td>\n",
              "      <td>0.000000</td>\n",
              "      <td>0.000000</td>\n",
              "      <td>0.000000</td>\n",
              "      <td>0.000000</td>\n",
              "      <td>0.000000</td>\n",
              "      <td>0.000000</td>\n",
              "      <td>0.000000</td>\n",
              "      <td>0.000000</td>\n",
              "      <td>...</td>\n",
              "      <td>0.000000</td>\n",
              "      <td>0.000000</td>\n",
              "      <td>0.000000</td>\n",
              "      <td>0.000000</td>\n",
              "      <td>0.000000</td>\n",
              "      <td>0.000000</td>\n",
              "      <td>0.000000</td>\n",
              "      <td>0.000000</td>\n",
              "      <td>0.000000</td>\n",
              "      <td>0.0</td>\n",
              "    </tr>\n",
              "    <tr>\n",
              "      <th>75%</th>\n",
              "      <td>125.000000</td>\n",
              "      <td>0.000000</td>\n",
              "      <td>0.000000</td>\n",
              "      <td>0.000000</td>\n",
              "      <td>0.000000</td>\n",
              "      <td>0.000000</td>\n",
              "      <td>0.000000</td>\n",
              "      <td>0.000000</td>\n",
              "      <td>0.000000</td>\n",
              "      <td>0.000000</td>\n",
              "      <td>...</td>\n",
              "      <td>0.000000</td>\n",
              "      <td>0.000000</td>\n",
              "      <td>0.000000</td>\n",
              "      <td>0.000000</td>\n",
              "      <td>0.000000</td>\n",
              "      <td>0.000000</td>\n",
              "      <td>0.000000</td>\n",
              "      <td>0.000000</td>\n",
              "      <td>0.000000</td>\n",
              "      <td>0.0</td>\n",
              "    </tr>\n",
              "    <tr>\n",
              "      <th>max</th>\n",
              "      <td>166.000000</td>\n",
              "      <td>2.000000</td>\n",
              "      <td>1.700000</td>\n",
              "      <td>5.200000</td>\n",
              "      <td>5.200000</td>\n",
              "      <td>2.900000</td>\n",
              "      <td>7.900000</td>\n",
              "      <td>13.700000</td>\n",
              "      <td>9.600000</td>\n",
              "      <td>2.200000</td>\n",
              "      <td>...</td>\n",
              "      <td>76.622200</td>\n",
              "      <td>66.058700</td>\n",
              "      <td>84.766900</td>\n",
              "      <td>76.802000</td>\n",
              "      <td>69.445100</td>\n",
              "      <td>63.017000</td>\n",
              "      <td>92.061900</td>\n",
              "      <td>66.527900</td>\n",
              "      <td>117.380400</td>\n",
              "      <td>0.0</td>\n",
              "    </tr>\n",
              "  </tbody>\n",
              "</table>\n",
              "<p>8 rows × 2394 columns</p>\n",
              "</div>\n",
              "      <button class=\"colab-df-convert\" onclick=\"convertToInteractive('df-e9cdc592-e67a-4c56-9476-7cd40e3dd71c')\"\n",
              "              title=\"Convert this dataframe to an interactive table.\"\n",
              "              style=\"display:none;\">\n",
              "        \n",
              "  <svg xmlns=\"http://www.w3.org/2000/svg\" height=\"24px\"viewBox=\"0 0 24 24\"\n",
              "       width=\"24px\">\n",
              "    <path d=\"M0 0h24v24H0V0z\" fill=\"none\"/>\n",
              "    <path d=\"M18.56 5.44l.94 2.06.94-2.06 2.06-.94-2.06-.94-.94-2.06-.94 2.06-2.06.94zm-11 1L8.5 8.5l.94-2.06 2.06-.94-2.06-.94L8.5 2.5l-.94 2.06-2.06.94zm10 10l.94 2.06.94-2.06 2.06-.94-2.06-.94-.94-2.06-.94 2.06-2.06.94z\"/><path d=\"M17.41 7.96l-1.37-1.37c-.4-.4-.92-.59-1.43-.59-.52 0-1.04.2-1.43.59L10.3 9.45l-7.72 7.72c-.78.78-.78 2.05 0 2.83L4 21.41c.39.39.9.59 1.41.59.51 0 1.02-.2 1.41-.59l7.78-7.78 2.81-2.81c.8-.78.8-2.07 0-2.86zM5.41 20L4 18.59l7.72-7.72 1.47 1.35L5.41 20z\"/>\n",
              "  </svg>\n",
              "      </button>\n",
              "      \n",
              "  <style>\n",
              "    .colab-df-container {\n",
              "      display:flex;\n",
              "      flex-wrap:wrap;\n",
              "      gap: 12px;\n",
              "    }\n",
              "\n",
              "    .colab-df-convert {\n",
              "      background-color: #E8F0FE;\n",
              "      border: none;\n",
              "      border-radius: 50%;\n",
              "      cursor: pointer;\n",
              "      display: none;\n",
              "      fill: #1967D2;\n",
              "      height: 32px;\n",
              "      padding: 0 0 0 0;\n",
              "      width: 32px;\n",
              "    }\n",
              "\n",
              "    .colab-df-convert:hover {\n",
              "      background-color: #E2EBFA;\n",
              "      box-shadow: 0px 1px 2px rgba(60, 64, 67, 0.3), 0px 1px 3px 1px rgba(60, 64, 67, 0.15);\n",
              "      fill: #174EA6;\n",
              "    }\n",
              "\n",
              "    [theme=dark] .colab-df-convert {\n",
              "      background-color: #3B4455;\n",
              "      fill: #D2E3FC;\n",
              "    }\n",
              "\n",
              "    [theme=dark] .colab-df-convert:hover {\n",
              "      background-color: #434B5C;\n",
              "      box-shadow: 0px 1px 3px 1px rgba(0, 0, 0, 0.15);\n",
              "      filter: drop-shadow(0px 1px 2px rgba(0, 0, 0, 0.3));\n",
              "      fill: #FFFFFF;\n",
              "    }\n",
              "  </style>\n",
              "\n",
              "      <script>\n",
              "        const buttonEl =\n",
              "          document.querySelector('#df-e9cdc592-e67a-4c56-9476-7cd40e3dd71c button.colab-df-convert');\n",
              "        buttonEl.style.display =\n",
              "          google.colab.kernel.accessAllowed ? 'block' : 'none';\n",
              "\n",
              "        async function convertToInteractive(key) {\n",
              "          const element = document.querySelector('#df-e9cdc592-e67a-4c56-9476-7cd40e3dd71c');\n",
              "          const dataTable =\n",
              "            await google.colab.kernel.invokeFunction('convertToInteractive',\n",
              "                                                     [key], {});\n",
              "          if (!dataTable) return;\n",
              "\n",
              "          const docLinkHtml = 'Like what you see? Visit the ' +\n",
              "            '<a target=\"_blank\" href=https://colab.research.google.com/notebooks/data_table.ipynb>data table notebook</a>'\n",
              "            + ' to learn more about interactive tables.';\n",
              "          element.innerHTML = '';\n",
              "          dataTable['output_type'] = 'display_data';\n",
              "          await google.colab.output.renderOutput(dataTable, element);\n",
              "          const docLink = document.createElement('div');\n",
              "          docLink.innerHTML = docLinkHtml;\n",
              "          element.appendChild(docLink);\n",
              "        }\n",
              "      </script>\n",
              "    </div>\n",
              "  </div>\n",
              "  "
            ],
            "text/plain": [
              "         Unnamed: 0  rh_bankssts_curvind  rh_caudalanteriorcingulate_curvind  \\\n",
              "count  12358.000000         12358.000000                        12358.000000   \n",
              "mean      83.000000             0.012300                            0.013141   \n",
              "std       48.209834             0.109761                            0.115521   \n",
              "min        0.000000             0.000000                            0.000000   \n",
              "25%       41.000000             0.000000                            0.000000   \n",
              "50%       83.000000             0.000000                            0.000000   \n",
              "75%      125.000000             0.000000                            0.000000   \n",
              "max      166.000000             2.000000                            1.700000   \n",
              "\n",
              "       rh_caudalmiddlefrontal_curvind  rh_cuneus_curvind  \\\n",
              "count                    12358.000000       12358.000000   \n",
              "mean                         0.041390           0.042547   \n",
              "std                          0.365226           0.368511   \n",
              "min                          0.000000           0.000000   \n",
              "25%                          0.000000           0.000000   \n",
              "50%                          0.000000           0.000000   \n",
              "75%                          0.000000           0.000000   \n",
              "max                          5.200000           5.200000   \n",
              "\n",
              "       rh_entorhinal_curvind  rh_fusiform_curvind  \\\n",
              "count           12358.000000         12358.000000   \n",
              "mean                0.008707             0.062000   \n",
              "std                 0.083241             0.537465   \n",
              "min                 0.000000             0.000000   \n",
              "25%                 0.000000             0.000000   \n",
              "50%                 0.000000             0.000000   \n",
              "75%                 0.000000             0.000000   \n",
              "max                 2.900000             7.900000   \n",
              "\n",
              "       rh_inferiorparietal_curvind  rh_inferiortemporal_curvind  \\\n",
              "count                 12358.000000                 12358.000000   \n",
              "mean                      0.105834                     0.067260   \n",
              "std                       0.928932                     0.586813   \n",
              "min                       0.000000                     0.000000   \n",
              "25%                       0.000000                     0.000000   \n",
              "50%                       0.000000                     0.000000   \n",
              "75%                       0.000000                     0.000000   \n",
              "max                      13.700000                     9.600000   \n",
              "\n",
              "       rh_isthmuscingulate_curvind  ...  rh_27_foldind  rh_28_foldind  \\\n",
              "count                 12358.000000  ...   12358.000000   12358.000000   \n",
              "mean                      0.018514  ...       0.693016       0.656863   \n",
              "std                       0.161887  ...       5.958063       5.640279   \n",
              "min                       0.000000  ...       0.000000       0.000000   \n",
              "25%                       0.000000  ...       0.000000       0.000000   \n",
              "50%                       0.000000  ...       0.000000       0.000000   \n",
              "75%                       0.000000  ...       0.000000       0.000000   \n",
              "max                       2.200000  ...      76.622200      66.058700   \n",
              "\n",
              "       rh_29_foldind  rh_30_foldind  rh_31_foldind  rh_32_foldind  \\\n",
              "count   12358.000000   12358.000000   12358.000000   12358.000000   \n",
              "mean        0.638085       0.677053       0.632703       0.618054   \n",
              "std         5.531940       5.855830       5.436580       5.314772   \n",
              "min         0.000000       0.000000       0.000000       0.000000   \n",
              "25%         0.000000       0.000000       0.000000       0.000000   \n",
              "50%         0.000000       0.000000       0.000000       0.000000   \n",
              "75%         0.000000       0.000000       0.000000       0.000000   \n",
              "max        84.766900      76.802000      69.445100      63.017000   \n",
              "\n",
              "       rh_33_foldind  rh_34_foldind  rh_35_foldind    label  \n",
              "count   12358.000000   12358.000000   12358.000000  12358.0  \n",
              "mean        0.693082       0.498695       0.718033      0.0  \n",
              "std         6.001371       4.335359       6.340192      0.0  \n",
              "min         0.000000       0.000000       0.000000      0.0  \n",
              "25%         0.000000       0.000000       0.000000      0.0  \n",
              "50%         0.000000       0.000000       0.000000      0.0  \n",
              "75%         0.000000       0.000000       0.000000      0.0  \n",
              "max        92.061900      66.527900     117.380400      0.0  \n",
              "\n",
              "[8 rows x 2394 columns]"
            ]
          },
          "execution_count": 6,
          "metadata": {},
          "output_type": "execute_result"
        }
      ],
      "source": [
        "df1.describe()"
      ]
    },
    {
      "cell_type": "code",
      "execution_count": null,
      "metadata": {
        "colab": {
          "base_uri": "https://localhost:8080/",
          "height": 394
        },
        "id": "-ZCIkagX5GOq",
        "outputId": "c2b00862-dd53-4642-f9d8-bead150cd119"
      },
      "outputs": [
        {
          "data": {
            "text/html": [
              "\n",
              "  <div id=\"df-13ae05ff-260a-468e-9745-584f6f707ff1\">\n",
              "    <div class=\"colab-df-container\">\n",
              "      <div>\n",
              "<style scoped>\n",
              "    .dataframe tbody tr th:only-of-type {\n",
              "        vertical-align: middle;\n",
              "    }\n",
              "\n",
              "    .dataframe tbody tr th {\n",
              "        vertical-align: top;\n",
              "    }\n",
              "\n",
              "    .dataframe thead th {\n",
              "        text-align: right;\n",
              "    }\n",
              "</style>\n",
              "<table border=\"1\" class=\"dataframe\">\n",
              "  <thead>\n",
              "    <tr style=\"text-align: right;\">\n",
              "      <th></th>\n",
              "      <th>Unnamed: 0</th>\n",
              "      <th>lh_bankssts_area</th>\n",
              "      <th>lh_caudalanteriorcingulate_area</th>\n",
              "      <th>lh_caudalmiddlefrontal_area</th>\n",
              "      <th>lh_cuneus_area</th>\n",
              "      <th>lh_entorhinal_area</th>\n",
              "      <th>lh_fusiform_area</th>\n",
              "      <th>lh_inferiorparietal_area</th>\n",
              "      <th>lh_inferiortemporal_area</th>\n",
              "      <th>lh_isthmuscingulate_area</th>\n",
              "      <th>...</th>\n",
              "      <th>rh_27_volume</th>\n",
              "      <th>rh_28_volume</th>\n",
              "      <th>rh_29_volume</th>\n",
              "      <th>rh_30_volume</th>\n",
              "      <th>rh_31_volume</th>\n",
              "      <th>rh_32_volume</th>\n",
              "      <th>rh_33_volume</th>\n",
              "      <th>rh_34_volume</th>\n",
              "      <th>rh_35_volume</th>\n",
              "      <th>label</th>\n",
              "    </tr>\n",
              "  </thead>\n",
              "  <tbody>\n",
              "    <tr>\n",
              "      <th>count</th>\n",
              "      <td>18278.000000</td>\n",
              "      <td>18278.000000</td>\n",
              "      <td>18278.000000</td>\n",
              "      <td>18278.000000</td>\n",
              "      <td>18278.000000</td>\n",
              "      <td>18278.000000</td>\n",
              "      <td>18278.000000</td>\n",
              "      <td>18278.000000</td>\n",
              "      <td>18278.000000</td>\n",
              "      <td>18278.000000</td>\n",
              "      <td>...</td>\n",
              "      <td>18278.000000</td>\n",
              "      <td>18278.000000</td>\n",
              "      <td>18278.000000</td>\n",
              "      <td>18278.000000</td>\n",
              "      <td>18278.000000</td>\n",
              "      <td>18278.000000</td>\n",
              "      <td>18278.000000</td>\n",
              "      <td>18278.000000</td>\n",
              "      <td>18278.000000</td>\n",
              "      <td>18278.0</td>\n",
              "    </tr>\n",
              "    <tr>\n",
              "      <th>mean</th>\n",
              "      <td>123.000000</td>\n",
              "      <td>12.455356</td>\n",
              "      <td>8.162545</td>\n",
              "      <td>28.879035</td>\n",
              "      <td>20.116862</td>\n",
              "      <td>5.672776</td>\n",
              "      <td>40.665062</td>\n",
              "      <td>56.016796</td>\n",
              "      <td>44.786410</td>\n",
              "      <td>13.691651</td>\n",
              "      <td>...</td>\n",
              "      <td>75.813935</td>\n",
              "      <td>89.596126</td>\n",
              "      <td>68.549989</td>\n",
              "      <td>48.001116</td>\n",
              "      <td>46.992548</td>\n",
              "      <td>4.392893</td>\n",
              "      <td>6.672475</td>\n",
              "      <td>4.276655</td>\n",
              "      <td>30.949601</td>\n",
              "      <td>1.0</td>\n",
              "    </tr>\n",
              "    <tr>\n",
              "      <th>std</th>\n",
              "      <td>71.304124</td>\n",
              "      <td>107.357746</td>\n",
              "      <td>71.211883</td>\n",
              "      <td>250.448975</td>\n",
              "      <td>173.426327</td>\n",
              "      <td>49.416500</td>\n",
              "      <td>349.634672</td>\n",
              "      <td>483.160686</td>\n",
              "      <td>385.985583</td>\n",
              "      <td>118.598292</td>\n",
              "      <td>...</td>\n",
              "      <td>654.261230</td>\n",
              "      <td>772.201125</td>\n",
              "      <td>589.583758</td>\n",
              "      <td>412.188341</td>\n",
              "      <td>404.173245</td>\n",
              "      <td>37.909027</td>\n",
              "      <td>57.468371</td>\n",
              "      <td>36.791054</td>\n",
              "      <td>266.530415</td>\n",
              "      <td>0.0</td>\n",
              "    </tr>\n",
              "    <tr>\n",
              "      <th>min</th>\n",
              "      <td>0.000000</td>\n",
              "      <td>0.000000</td>\n",
              "      <td>0.000000</td>\n",
              "      <td>0.000000</td>\n",
              "      <td>0.000000</td>\n",
              "      <td>0.000000</td>\n",
              "      <td>0.000000</td>\n",
              "      <td>0.000000</td>\n",
              "      <td>0.000000</td>\n",
              "      <td>0.000000</td>\n",
              "      <td>...</td>\n",
              "      <td>0.000000</td>\n",
              "      <td>0.000000</td>\n",
              "      <td>0.000000</td>\n",
              "      <td>0.000000</td>\n",
              "      <td>0.000000</td>\n",
              "      <td>0.000000</td>\n",
              "      <td>0.000000</td>\n",
              "      <td>0.000000</td>\n",
              "      <td>0.000000</td>\n",
              "      <td>1.0</td>\n",
              "    </tr>\n",
              "    <tr>\n",
              "      <th>25%</th>\n",
              "      <td>61.000000</td>\n",
              "      <td>0.000000</td>\n",
              "      <td>0.000000</td>\n",
              "      <td>0.000000</td>\n",
              "      <td>0.000000</td>\n",
              "      <td>0.000000</td>\n",
              "      <td>0.000000</td>\n",
              "      <td>0.000000</td>\n",
              "      <td>0.000000</td>\n",
              "      <td>0.000000</td>\n",
              "      <td>...</td>\n",
              "      <td>0.000000</td>\n",
              "      <td>0.000000</td>\n",
              "      <td>0.000000</td>\n",
              "      <td>0.000000</td>\n",
              "      <td>0.000000</td>\n",
              "      <td>0.000000</td>\n",
              "      <td>0.000000</td>\n",
              "      <td>0.000000</td>\n",
              "      <td>0.000000</td>\n",
              "      <td>1.0</td>\n",
              "    </tr>\n",
              "    <tr>\n",
              "      <th>50%</th>\n",
              "      <td>123.000000</td>\n",
              "      <td>0.000000</td>\n",
              "      <td>0.000000</td>\n",
              "      <td>0.000000</td>\n",
              "      <td>0.000000</td>\n",
              "      <td>0.000000</td>\n",
              "      <td>0.000000</td>\n",
              "      <td>0.000000</td>\n",
              "      <td>0.000000</td>\n",
              "      <td>0.000000</td>\n",
              "      <td>...</td>\n",
              "      <td>0.000000</td>\n",
              "      <td>0.000000</td>\n",
              "      <td>0.000000</td>\n",
              "      <td>0.000000</td>\n",
              "      <td>0.000000</td>\n",
              "      <td>0.000000</td>\n",
              "      <td>0.000000</td>\n",
              "      <td>0.000000</td>\n",
              "      <td>0.000000</td>\n",
              "      <td>1.0</td>\n",
              "    </tr>\n",
              "    <tr>\n",
              "      <th>75%</th>\n",
              "      <td>185.000000</td>\n",
              "      <td>0.000000</td>\n",
              "      <td>0.000000</td>\n",
              "      <td>0.000000</td>\n",
              "      <td>0.000000</td>\n",
              "      <td>0.000000</td>\n",
              "      <td>0.000000</td>\n",
              "      <td>0.000000</td>\n",
              "      <td>0.000000</td>\n",
              "      <td>0.000000</td>\n",
              "      <td>...</td>\n",
              "      <td>0.000000</td>\n",
              "      <td>0.000000</td>\n",
              "      <td>0.000000</td>\n",
              "      <td>0.000000</td>\n",
              "      <td>0.000000</td>\n",
              "      <td>0.000000</td>\n",
              "      <td>0.000000</td>\n",
              "      <td>0.000000</td>\n",
              "      <td>0.000000</td>\n",
              "      <td>1.0</td>\n",
              "    </tr>\n",
              "    <tr>\n",
              "      <th>max</th>\n",
              "      <td>246.000000</td>\n",
              "      <td>1294.000000</td>\n",
              "      <td>933.000000</td>\n",
              "      <td>3314.000000</td>\n",
              "      <td>2008.000000</td>\n",
              "      <td>632.000000</td>\n",
              "      <td>3854.000000</td>\n",
              "      <td>5724.000000</td>\n",
              "      <td>4203.000000</td>\n",
              "      <td>1711.000000</td>\n",
              "      <td>...</td>\n",
              "      <td>7372.000000</td>\n",
              "      <td>8763.000000</td>\n",
              "      <td>6385.100000</td>\n",
              "      <td>4457.600000</td>\n",
              "      <td>4404.800000</td>\n",
              "      <td>443.200000</td>\n",
              "      <td>638.300000</td>\n",
              "      <td>440.100000</td>\n",
              "      <td>3000.900000</td>\n",
              "      <td>1.0</td>\n",
              "    </tr>\n",
              "  </tbody>\n",
              "</table>\n",
              "<p>8 rows × 2394 columns</p>\n",
              "</div>\n",
              "      <button class=\"colab-df-convert\" onclick=\"convertToInteractive('df-13ae05ff-260a-468e-9745-584f6f707ff1')\"\n",
              "              title=\"Convert this dataframe to an interactive table.\"\n",
              "              style=\"display:none;\">\n",
              "        \n",
              "  <svg xmlns=\"http://www.w3.org/2000/svg\" height=\"24px\"viewBox=\"0 0 24 24\"\n",
              "       width=\"24px\">\n",
              "    <path d=\"M0 0h24v24H0V0z\" fill=\"none\"/>\n",
              "    <path d=\"M18.56 5.44l.94 2.06.94-2.06 2.06-.94-2.06-.94-.94-2.06-.94 2.06-2.06.94zm-11 1L8.5 8.5l.94-2.06 2.06-.94-2.06-.94L8.5 2.5l-.94 2.06-2.06.94zm10 10l.94 2.06.94-2.06 2.06-.94-2.06-.94-.94-2.06-.94 2.06-2.06.94z\"/><path d=\"M17.41 7.96l-1.37-1.37c-.4-.4-.92-.59-1.43-.59-.52 0-1.04.2-1.43.59L10.3 9.45l-7.72 7.72c-.78.78-.78 2.05 0 2.83L4 21.41c.39.39.9.59 1.41.59.51 0 1.02-.2 1.41-.59l7.78-7.78 2.81-2.81c.8-.78.8-2.07 0-2.86zM5.41 20L4 18.59l7.72-7.72 1.47 1.35L5.41 20z\"/>\n",
              "  </svg>\n",
              "      </button>\n",
              "      \n",
              "  <style>\n",
              "    .colab-df-container {\n",
              "      display:flex;\n",
              "      flex-wrap:wrap;\n",
              "      gap: 12px;\n",
              "    }\n",
              "\n",
              "    .colab-df-convert {\n",
              "      background-color: #E8F0FE;\n",
              "      border: none;\n",
              "      border-radius: 50%;\n",
              "      cursor: pointer;\n",
              "      display: none;\n",
              "      fill: #1967D2;\n",
              "      height: 32px;\n",
              "      padding: 0 0 0 0;\n",
              "      width: 32px;\n",
              "    }\n",
              "\n",
              "    .colab-df-convert:hover {\n",
              "      background-color: #E2EBFA;\n",
              "      box-shadow: 0px 1px 2px rgba(60, 64, 67, 0.3), 0px 1px 3px 1px rgba(60, 64, 67, 0.15);\n",
              "      fill: #174EA6;\n",
              "    }\n",
              "\n",
              "    [theme=dark] .colab-df-convert {\n",
              "      background-color: #3B4455;\n",
              "      fill: #D2E3FC;\n",
              "    }\n",
              "\n",
              "    [theme=dark] .colab-df-convert:hover {\n",
              "      background-color: #434B5C;\n",
              "      box-shadow: 0px 1px 3px 1px rgba(0, 0, 0, 0.15);\n",
              "      filter: drop-shadow(0px 1px 2px rgba(0, 0, 0, 0.3));\n",
              "      fill: #FFFFFF;\n",
              "    }\n",
              "  </style>\n",
              "\n",
              "      <script>\n",
              "        const buttonEl =\n",
              "          document.querySelector('#df-13ae05ff-260a-468e-9745-584f6f707ff1 button.colab-df-convert');\n",
              "        buttonEl.style.display =\n",
              "          google.colab.kernel.accessAllowed ? 'block' : 'none';\n",
              "\n",
              "        async function convertToInteractive(key) {\n",
              "          const element = document.querySelector('#df-13ae05ff-260a-468e-9745-584f6f707ff1');\n",
              "          const dataTable =\n",
              "            await google.colab.kernel.invokeFunction('convertToInteractive',\n",
              "                                                     [key], {});\n",
              "          if (!dataTable) return;\n",
              "\n",
              "          const docLinkHtml = 'Like what you see? Visit the ' +\n",
              "            '<a target=\"_blank\" href=https://colab.research.google.com/notebooks/data_table.ipynb>data table notebook</a>'\n",
              "            + ' to learn more about interactive tables.';\n",
              "          element.innerHTML = '';\n",
              "          dataTable['output_type'] = 'display_data';\n",
              "          await google.colab.output.renderOutput(dataTable, element);\n",
              "          const docLink = document.createElement('div');\n",
              "          docLink.innerHTML = docLinkHtml;\n",
              "          element.appendChild(docLink);\n",
              "        }\n",
              "      </script>\n",
              "    </div>\n",
              "  </div>\n",
              "  "
            ],
            "text/plain": [
              "         Unnamed: 0  lh_bankssts_area  lh_caudalanteriorcingulate_area  \\\n",
              "count  18278.000000      18278.000000                     18278.000000   \n",
              "mean     123.000000         12.455356                         8.162545   \n",
              "std       71.304124        107.357746                        71.211883   \n",
              "min        0.000000          0.000000                         0.000000   \n",
              "25%       61.000000          0.000000                         0.000000   \n",
              "50%      123.000000          0.000000                         0.000000   \n",
              "75%      185.000000          0.000000                         0.000000   \n",
              "max      246.000000       1294.000000                       933.000000   \n",
              "\n",
              "       lh_caudalmiddlefrontal_area  lh_cuneus_area  lh_entorhinal_area  \\\n",
              "count                 18278.000000    18278.000000        18278.000000   \n",
              "mean                     28.879035       20.116862            5.672776   \n",
              "std                     250.448975      173.426327           49.416500   \n",
              "min                       0.000000        0.000000            0.000000   \n",
              "25%                       0.000000        0.000000            0.000000   \n",
              "50%                       0.000000        0.000000            0.000000   \n",
              "75%                       0.000000        0.000000            0.000000   \n",
              "max                    3314.000000     2008.000000          632.000000   \n",
              "\n",
              "       lh_fusiform_area  lh_inferiorparietal_area  lh_inferiortemporal_area  \\\n",
              "count      18278.000000              18278.000000              18278.000000   \n",
              "mean          40.665062                 56.016796                 44.786410   \n",
              "std          349.634672                483.160686                385.985583   \n",
              "min            0.000000                  0.000000                  0.000000   \n",
              "25%            0.000000                  0.000000                  0.000000   \n",
              "50%            0.000000                  0.000000                  0.000000   \n",
              "75%            0.000000                  0.000000                  0.000000   \n",
              "max         3854.000000               5724.000000               4203.000000   \n",
              "\n",
              "       lh_isthmuscingulate_area  ...  rh_27_volume  rh_28_volume  \\\n",
              "count              18278.000000  ...  18278.000000  18278.000000   \n",
              "mean                  13.691651  ...     75.813935     89.596126   \n",
              "std                  118.598292  ...    654.261230    772.201125   \n",
              "min                    0.000000  ...      0.000000      0.000000   \n",
              "25%                    0.000000  ...      0.000000      0.000000   \n",
              "50%                    0.000000  ...      0.000000      0.000000   \n",
              "75%                    0.000000  ...      0.000000      0.000000   \n",
              "max                 1711.000000  ...   7372.000000   8763.000000   \n",
              "\n",
              "       rh_29_volume  rh_30_volume  rh_31_volume  rh_32_volume  rh_33_volume  \\\n",
              "count  18278.000000  18278.000000  18278.000000  18278.000000  18278.000000   \n",
              "mean      68.549989     48.001116     46.992548      4.392893      6.672475   \n",
              "std      589.583758    412.188341    404.173245     37.909027     57.468371   \n",
              "min        0.000000      0.000000      0.000000      0.000000      0.000000   \n",
              "25%        0.000000      0.000000      0.000000      0.000000      0.000000   \n",
              "50%        0.000000      0.000000      0.000000      0.000000      0.000000   \n",
              "75%        0.000000      0.000000      0.000000      0.000000      0.000000   \n",
              "max     6385.100000   4457.600000   4404.800000    443.200000    638.300000   \n",
              "\n",
              "       rh_34_volume  rh_35_volume    label  \n",
              "count  18278.000000  18278.000000  18278.0  \n",
              "mean       4.276655     30.949601      1.0  \n",
              "std       36.791054    266.530415      0.0  \n",
              "min        0.000000      0.000000      1.0  \n",
              "25%        0.000000      0.000000      1.0  \n",
              "50%        0.000000      0.000000      1.0  \n",
              "75%        0.000000      0.000000      1.0  \n",
              "max      440.100000   3000.900000      1.0  \n",
              "\n",
              "[8 rows x 2394 columns]"
            ]
          },
          "execution_count": 7,
          "metadata": {},
          "output_type": "execute_result"
        }
      ],
      "source": [
        "df2.describe()"
      ]
    },
    {
      "cell_type": "code",
      "execution_count": null,
      "metadata": {
        "id": "IvqEfv2sJnWO"
      },
      "outputs": [],
      "source": [
        "columns_names1 = df1.columns.values\n",
        "columns_names2 = df1.columns.values"
      ]
    },
    {
      "cell_type": "code",
      "execution_count": null,
      "metadata": {
        "colab": {
          "base_uri": "https://localhost:8080/",
          "height": 300
        },
        "id": "8g9t2oYLJAy0",
        "outputId": "f17cc84c-1033-4529-fc4f-33978e6df9df"
      },
      "outputs": [
        {
          "data": {
            "text/html": [
              "<style type=\"text/css\">\n",
              "#T_5ee7c_row0_col0, #T_5ee7c_row1_col1, #T_5ee7c_row2_col2, #T_5ee7c_row3_col3, #T_5ee7c_row4_col4, #T_5ee7c_row5_col5, #T_5ee7c_row6_col6, #T_5ee7c_row7_col7 {\n",
              "  background-color: #b40426;\n",
              "  color: #f1f1f1;\n",
              "}\n",
              "#T_5ee7c_row0_col1, #T_5ee7c_row0_col2, #T_5ee7c_row0_col3, #T_5ee7c_row0_col4, #T_5ee7c_row0_col5, #T_5ee7c_row0_col6, #T_5ee7c_row0_col7, #T_5ee7c_row1_col0, #T_5ee7c_row3_col0 {\n",
              "  background-color: #3b4cc0;\n",
              "  color: #f1f1f1;\n",
              "}\n",
              "#T_5ee7c_row1_col2, #T_5ee7c_row2_col1, #T_5ee7c_row2_col3 {\n",
              "  background-color: #c83836;\n",
              "  color: #f1f1f1;\n",
              "}\n",
              "#T_5ee7c_row1_col3, #T_5ee7c_row2_col6, #T_5ee7c_row3_col1, #T_5ee7c_row6_col2 {\n",
              "  background-color: #c0282f;\n",
              "  color: #f1f1f1;\n",
              "}\n",
              "#T_5ee7c_row1_col4, #T_5ee7c_row3_col4, #T_5ee7c_row4_col1, #T_5ee7c_row4_col3 {\n",
              "  background-color: #c43032;\n",
              "  color: #f1f1f1;\n",
              "}\n",
              "#T_5ee7c_row1_col5, #T_5ee7c_row5_col1 {\n",
              "  background-color: #da5a49;\n",
              "  color: #f1f1f1;\n",
              "}\n",
              "#T_5ee7c_row1_col6, #T_5ee7c_row3_col6, #T_5ee7c_row4_col7, #T_5ee7c_row6_col1, #T_5ee7c_row6_col3, #T_5ee7c_row7_col4 {\n",
              "  background-color: #be242e;\n",
              "  color: #f1f1f1;\n",
              "}\n",
              "#T_5ee7c_row1_col7, #T_5ee7c_row7_col1 {\n",
              "  background-color: #bb1b2c;\n",
              "  color: #f1f1f1;\n",
              "}\n",
              "#T_5ee7c_row2_col0 {\n",
              "  background-color: #3e51c5;\n",
              "  color: #f1f1f1;\n",
              "}\n",
              "#T_5ee7c_row2_col4, #T_5ee7c_row3_col7, #T_5ee7c_row4_col2, #T_5ee7c_row4_col6, #T_5ee7c_row6_col4, #T_5ee7c_row7_col3 {\n",
              "  background-color: #bd1f2d;\n",
              "  color: #f1f1f1;\n",
              "}\n",
              "#T_5ee7c_row2_col5, #T_5ee7c_row5_col2 {\n",
              "  background-color: #dd5f4b;\n",
              "  color: #f1f1f1;\n",
              "}\n",
              "#T_5ee7c_row2_col7, #T_5ee7c_row7_col2 {\n",
              "  background-color: #c32e31;\n",
              "  color: #f1f1f1;\n",
              "}\n",
              "#T_5ee7c_row3_col2 {\n",
              "  background-color: #ca3b37;\n",
              "  color: #f1f1f1;\n",
              "}\n",
              "#T_5ee7c_row3_col5, #T_5ee7c_row5_col3 {\n",
              "  background-color: #d65244;\n",
              "  color: #f1f1f1;\n",
              "}\n",
              "#T_5ee7c_row4_col0, #T_5ee7c_row7_col0 {\n",
              "  background-color: #3c4ec2;\n",
              "  color: #f1f1f1;\n",
              "}\n",
              "#T_5ee7c_row4_col5, #T_5ee7c_row5_col4 {\n",
              "  background-color: #dc5d4a;\n",
              "  color: #f1f1f1;\n",
              "}\n",
              "#T_5ee7c_row5_col0, #T_5ee7c_row6_col0 {\n",
              "  background-color: #3d50c3;\n",
              "  color: #f1f1f1;\n",
              "}\n",
              "#T_5ee7c_row5_col6, #T_5ee7c_row6_col5 {\n",
              "  background-color: #d95847;\n",
              "  color: #f1f1f1;\n",
              "}\n",
              "#T_5ee7c_row5_col7, #T_5ee7c_row7_col5 {\n",
              "  background-color: #d75445;\n",
              "  color: #f1f1f1;\n",
              "}\n",
              "#T_5ee7c_row6_col7, #T_5ee7c_row7_col6 {\n",
              "  background-color: #b8122a;\n",
              "  color: #f1f1f1;\n",
              "}\n",
              "</style>\n",
              "<table id=\"T_5ee7c_\" class=\"dataframe\">\n",
              "  <thead>\n",
              "    <tr>\n",
              "      <th class=\"blank level0\" >&nbsp;</th>\n",
              "      <th class=\"col_heading level0 col0\" >Unnamed: 0</th>\n",
              "      <th class=\"col_heading level0 col1\" >rh_bankssts_curvind</th>\n",
              "      <th class=\"col_heading level0 col2\" >rh_caudalanteriorcingulate_curvind</th>\n",
              "      <th class=\"col_heading level0 col3\" >rh_caudalmiddlefrontal_curvind</th>\n",
              "      <th class=\"col_heading level0 col4\" >rh_cuneus_curvind</th>\n",
              "      <th class=\"col_heading level0 col5\" >rh_entorhinal_curvind</th>\n",
              "      <th class=\"col_heading level0 col6\" >rh_fusiform_curvind</th>\n",
              "      <th class=\"col_heading level0 col7\" >rh_inferiorparietal_curvind</th>\n",
              "    </tr>\n",
              "  </thead>\n",
              "  <tbody>\n",
              "    <tr>\n",
              "      <th id=\"T_5ee7c_level0_row0\" class=\"row_heading level0 row0\" >Unnamed: 0</th>\n",
              "      <td id=\"T_5ee7c_row0_col0\" class=\"data row0 col0\" >1.000000</td>\n",
              "      <td id=\"T_5ee7c_row0_col1\" class=\"data row0 col1\" >-0.007399</td>\n",
              "      <td id=\"T_5ee7c_row0_col2\" class=\"data row0 col2\" >0.004792</td>\n",
              "      <td id=\"T_5ee7c_row0_col3\" class=\"data row0 col3\" >-0.005129</td>\n",
              "      <td id=\"T_5ee7c_row0_col4\" class=\"data row0 col4\" >-0.002328</td>\n",
              "      <td id=\"T_5ee7c_row0_col5\" class=\"data row0 col5\" >0.002523</td>\n",
              "      <td id=\"T_5ee7c_row0_col6\" class=\"data row0 col6\" >0.000965</td>\n",
              "      <td id=\"T_5ee7c_row0_col7\" class=\"data row0 col7\" >-0.002441</td>\n",
              "    </tr>\n",
              "    <tr>\n",
              "      <th id=\"T_5ee7c_level0_row1\" class=\"row_heading level0 row1\" >rh_bankssts_curvind</th>\n",
              "      <td id=\"T_5ee7c_row1_col0\" class=\"data row1 col0\" >-0.007399</td>\n",
              "      <td id=\"T_5ee7c_row1_col1\" class=\"data row1 col1\" >1.000000</td>\n",
              "      <td id=\"T_5ee7c_row1_col2\" class=\"data row1 col2\" >0.944470</td>\n",
              "      <td id=\"T_5ee7c_row1_col3\" class=\"data row1 col3\" >0.965757</td>\n",
              "      <td id=\"T_5ee7c_row1_col4\" class=\"data row1 col4\" >0.954754</td>\n",
              "      <td id=\"T_5ee7c_row1_col5\" class=\"data row1 col5\" >0.885520</td>\n",
              "      <td id=\"T_5ee7c_row1_col6\" class=\"data row1 col6\" >0.970346</td>\n",
              "      <td id=\"T_5ee7c_row1_col7\" class=\"data row1 col7\" >0.979783</td>\n",
              "    </tr>\n",
              "    <tr>\n",
              "      <th id=\"T_5ee7c_level0_row2\" class=\"row_heading level0 row2\" >rh_caudalanteriorcingulate_curvind</th>\n",
              "      <td id=\"T_5ee7c_row2_col0\" class=\"data row2 col0\" >0.004792</td>\n",
              "      <td id=\"T_5ee7c_row2_col1\" class=\"data row2 col1\" >0.944470</td>\n",
              "      <td id=\"T_5ee7c_row2_col2\" class=\"data row2 col2\" >1.000000</td>\n",
              "      <td id=\"T_5ee7c_row2_col3\" class=\"data row2 col3\" >0.941480</td>\n",
              "      <td id=\"T_5ee7c_row2_col4\" class=\"data row2 col4\" >0.973201</td>\n",
              "      <td id=\"T_5ee7c_row2_col5\" class=\"data row2 col5\" >0.878137</td>\n",
              "      <td id=\"T_5ee7c_row2_col6\" class=\"data row2 col6\" >0.967939</td>\n",
              "      <td id=\"T_5ee7c_row2_col7\" class=\"data row2 col7\" >0.957473</td>\n",
              "    </tr>\n",
              "    <tr>\n",
              "      <th id=\"T_5ee7c_level0_row3\" class=\"row_heading level0 row3\" >rh_caudalmiddlefrontal_curvind</th>\n",
              "      <td id=\"T_5ee7c_row3_col0\" class=\"data row3 col0\" >-0.005129</td>\n",
              "      <td id=\"T_5ee7c_row3_col1\" class=\"data row3 col1\" >0.965757</td>\n",
              "      <td id=\"T_5ee7c_row3_col2\" class=\"data row3 col2\" >0.941480</td>\n",
              "      <td id=\"T_5ee7c_row3_col3\" class=\"data row3 col3\" >1.000000</td>\n",
              "      <td id=\"T_5ee7c_row3_col4\" class=\"data row3 col4\" >0.955385</td>\n",
              "      <td id=\"T_5ee7c_row3_col5\" class=\"data row3 col5\" >0.900926</td>\n",
              "      <td id=\"T_5ee7c_row3_col6\" class=\"data row3 col6\" >0.969882</td>\n",
              "      <td id=\"T_5ee7c_row3_col7\" class=\"data row3 col7\" >0.973261</td>\n",
              "    </tr>\n",
              "    <tr>\n",
              "      <th id=\"T_5ee7c_level0_row4\" class=\"row_heading level0 row4\" >rh_cuneus_curvind</th>\n",
              "      <td id=\"T_5ee7c_row4_col0\" class=\"data row4 col0\" >-0.002328</td>\n",
              "      <td id=\"T_5ee7c_row4_col1\" class=\"data row4 col1\" >0.954754</td>\n",
              "      <td id=\"T_5ee7c_row4_col2\" class=\"data row4 col2\" >0.973201</td>\n",
              "      <td id=\"T_5ee7c_row4_col3\" class=\"data row4 col3\" >0.955385</td>\n",
              "      <td id=\"T_5ee7c_row4_col4\" class=\"data row4 col4\" >1.000000</td>\n",
              "      <td id=\"T_5ee7c_row4_col5\" class=\"data row4 col5\" >0.882435</td>\n",
              "      <td id=\"T_5ee7c_row4_col6\" class=\"data row4 col6\" >0.975005</td>\n",
              "      <td id=\"T_5ee7c_row4_col7\" class=\"data row4 col7\" >0.972024</td>\n",
              "    </tr>\n",
              "    <tr>\n",
              "      <th id=\"T_5ee7c_level0_row5\" class=\"row_heading level0 row5\" >rh_entorhinal_curvind</th>\n",
              "      <td id=\"T_5ee7c_row5_col0\" class=\"data row5 col0\" >0.002523</td>\n",
              "      <td id=\"T_5ee7c_row5_col1\" class=\"data row5 col1\" >0.885520</td>\n",
              "      <td id=\"T_5ee7c_row5_col2\" class=\"data row5 col2\" >0.878137</td>\n",
              "      <td id=\"T_5ee7c_row5_col3\" class=\"data row5 col3\" >0.900926</td>\n",
              "      <td id=\"T_5ee7c_row5_col4\" class=\"data row5 col4\" >0.882435</td>\n",
              "      <td id=\"T_5ee7c_row5_col5\" class=\"data row5 col5\" >1.000000</td>\n",
              "      <td id=\"T_5ee7c_row5_col6\" class=\"data row5 col6\" >0.887970</td>\n",
              "      <td id=\"T_5ee7c_row5_col7\" class=\"data row5 col7\" >0.897626</td>\n",
              "    </tr>\n",
              "    <tr>\n",
              "      <th id=\"T_5ee7c_level0_row6\" class=\"row_heading level0 row6\" >rh_fusiform_curvind</th>\n",
              "      <td id=\"T_5ee7c_row6_col0\" class=\"data row6 col0\" >0.000965</td>\n",
              "      <td id=\"T_5ee7c_row6_col1\" class=\"data row6 col1\" >0.970346</td>\n",
              "      <td id=\"T_5ee7c_row6_col2\" class=\"data row6 col2\" >0.967939</td>\n",
              "      <td id=\"T_5ee7c_row6_col3\" class=\"data row6 col3\" >0.969882</td>\n",
              "      <td id=\"T_5ee7c_row6_col4\" class=\"data row6 col4\" >0.975005</td>\n",
              "      <td id=\"T_5ee7c_row6_col5\" class=\"data row6 col5\" >0.887970</td>\n",
              "      <td id=\"T_5ee7c_row6_col6\" class=\"data row6 col6\" >1.000000</td>\n",
              "      <td id=\"T_5ee7c_row6_col7\" class=\"data row6 col7\" >0.985123</td>\n",
              "    </tr>\n",
              "    <tr>\n",
              "      <th id=\"T_5ee7c_level0_row7\" class=\"row_heading level0 row7\" >rh_inferiorparietal_curvind</th>\n",
              "      <td id=\"T_5ee7c_row7_col0\" class=\"data row7 col0\" >-0.002441</td>\n",
              "      <td id=\"T_5ee7c_row7_col1\" class=\"data row7 col1\" >0.979783</td>\n",
              "      <td id=\"T_5ee7c_row7_col2\" class=\"data row7 col2\" >0.957473</td>\n",
              "      <td id=\"T_5ee7c_row7_col3\" class=\"data row7 col3\" >0.973261</td>\n",
              "      <td id=\"T_5ee7c_row7_col4\" class=\"data row7 col4\" >0.972024</td>\n",
              "      <td id=\"T_5ee7c_row7_col5\" class=\"data row7 col5\" >0.897626</td>\n",
              "      <td id=\"T_5ee7c_row7_col6\" class=\"data row7 col6\" >0.985123</td>\n",
              "      <td id=\"T_5ee7c_row7_col7\" class=\"data row7 col7\" >1.000000</td>\n",
              "    </tr>\n",
              "  </tbody>\n",
              "</table>\n"
            ],
            "text/plain": [
              "<pandas.io.formats.style.Styler at 0x7f8c429099d0>"
            ]
          },
          "execution_count": 48,
          "metadata": {},
          "output_type": "execute_result"
        }
      ],
      "source": [
        "corr_matrix1 = df1[columns_names1[0:8]].corr() # correlation function\n",
        "corr_matrix1.style.background_gradient(cmap='coolwarm')"
      ]
    },
    {
      "cell_type": "code",
      "execution_count": null,
      "metadata": {
        "colab": {
          "base_uri": "https://localhost:8080/",
          "height": 300
        },
        "id": "lIGsrPSpI7PU",
        "outputId": "3ef7ff62-ca12-4df7-b676-2c0b61ba463d"
      },
      "outputs": [
        {
          "data": {
            "text/html": [
              "<style type=\"text/css\">\n",
              "#T_957da_row0_col0, #T_957da_row1_col1, #T_957da_row2_col2, #T_957da_row3_col3, #T_957da_row4_col4, #T_957da_row5_col5, #T_957da_row6_col6, #T_957da_row7_col7 {\n",
              "  background-color: #b40426;\n",
              "  color: #f1f1f1;\n",
              "}\n",
              "#T_957da_row0_col1, #T_957da_row0_col2, #T_957da_row0_col3, #T_957da_row0_col4, #T_957da_row0_col5, #T_957da_row0_col6, #T_957da_row0_col7, #T_957da_row1_col0, #T_957da_row2_col0, #T_957da_row4_col0, #T_957da_row5_col0, #T_957da_row6_col0, #T_957da_row7_col0 {\n",
              "  background-color: #3b4cc0;\n",
              "  color: #f1f1f1;\n",
              "}\n",
              "#T_957da_row1_col2, #T_957da_row2_col1 {\n",
              "  background-color: #cd423b;\n",
              "  color: #f1f1f1;\n",
              "}\n",
              "#T_957da_row1_col3, #T_957da_row3_col1, #T_957da_row3_col2 {\n",
              "  background-color: #cb3e38;\n",
              "  color: #f1f1f1;\n",
              "}\n",
              "#T_957da_row1_col4, #T_957da_row1_col7, #T_957da_row2_col4, #T_957da_row4_col1, #T_957da_row4_col2, #T_957da_row7_col1 {\n",
              "  background-color: #c32e31;\n",
              "  color: #f1f1f1;\n",
              "}\n",
              "#T_957da_row1_col5, #T_957da_row5_col1 {\n",
              "  background-color: #f29072;\n",
              "  color: #f1f1f1;\n",
              "}\n",
              "#T_957da_row1_col6, #T_957da_row6_col1 {\n",
              "  background-color: #c53334;\n",
              "  color: #f1f1f1;\n",
              "}\n",
              "#T_957da_row2_col3 {\n",
              "  background-color: #cc403a;\n",
              "  color: #f1f1f1;\n",
              "}\n",
              "#T_957da_row2_col5, #T_957da_row5_col2 {\n",
              "  background-color: #e67259;\n",
              "  color: #f1f1f1;\n",
              "}\n",
              "#T_957da_row2_col6, #T_957da_row2_col7, #T_957da_row6_col2, #T_957da_row7_col2 {\n",
              "  background-color: #c43032;\n",
              "  color: #f1f1f1;\n",
              "}\n",
              "#T_957da_row3_col0 {\n",
              "  background-color: #3d50c3;\n",
              "  color: #f1f1f1;\n",
              "}\n",
              "#T_957da_row3_col4, #T_957da_row4_col3 {\n",
              "  background-color: #c0282f;\n",
              "  color: #f1f1f1;\n",
              "}\n",
              "#T_957da_row3_col5, #T_957da_row5_col3 {\n",
              "  background-color: #ef886b;\n",
              "  color: #f1f1f1;\n",
              "}\n",
              "#T_957da_row3_col6, #T_957da_row6_col3 {\n",
              "  background-color: #bd1f2d;\n",
              "  color: #f1f1f1;\n",
              "}\n",
              "#T_957da_row3_col7, #T_957da_row7_col3 {\n",
              "  background-color: #c12b30;\n",
              "  color: #f1f1f1;\n",
              "}\n",
              "#T_957da_row4_col5, #T_957da_row5_col4 {\n",
              "  background-color: #e8765c;\n",
              "  color: #f1f1f1;\n",
              "}\n",
              "#T_957da_row4_col6, #T_957da_row6_col4, #T_957da_row6_col7, #T_957da_row7_col6 {\n",
              "  background-color: #ba162b;\n",
              "  color: #f1f1f1;\n",
              "}\n",
              "#T_957da_row4_col7, #T_957da_row7_col4 {\n",
              "  background-color: #bb1b2c;\n",
              "  color: #f1f1f1;\n",
              "}\n",
              "#T_957da_row5_col6, #T_957da_row6_col5 {\n",
              "  background-color: #ea7b60;\n",
              "  color: #f1f1f1;\n",
              "}\n",
              "#T_957da_row5_col7, #T_957da_row7_col5 {\n",
              "  background-color: #ec8165;\n",
              "  color: #f1f1f1;\n",
              "}\n",
              "</style>\n",
              "<table id=\"T_957da_\" class=\"dataframe\">\n",
              "  <thead>\n",
              "    <tr>\n",
              "      <th class=\"blank level0\" >&nbsp;</th>\n",
              "      <th class=\"col_heading level0 col0\" >Unnamed: 0</th>\n",
              "      <th class=\"col_heading level0 col1\" >rh_bankssts_curvind</th>\n",
              "      <th class=\"col_heading level0 col2\" >rh_caudalanteriorcingulate_curvind</th>\n",
              "      <th class=\"col_heading level0 col3\" >rh_caudalmiddlefrontal_curvind</th>\n",
              "      <th class=\"col_heading level0 col4\" >rh_cuneus_curvind</th>\n",
              "      <th class=\"col_heading level0 col5\" >rh_entorhinal_curvind</th>\n",
              "      <th class=\"col_heading level0 col6\" >rh_fusiform_curvind</th>\n",
              "      <th class=\"col_heading level0 col7\" >rh_inferiorparietal_curvind</th>\n",
              "    </tr>\n",
              "  </thead>\n",
              "  <tbody>\n",
              "    <tr>\n",
              "      <th id=\"T_957da_level0_row0\" class=\"row_heading level0 row0\" >Unnamed: 0</th>\n",
              "      <td id=\"T_957da_row0_col0\" class=\"data row0 col0\" >1.000000</td>\n",
              "      <td id=\"T_957da_row0_col1\" class=\"data row0 col1\" >-0.000297</td>\n",
              "      <td id=\"T_957da_row0_col2\" class=\"data row0 col2\" >0.000601</td>\n",
              "      <td id=\"T_957da_row0_col3\" class=\"data row0 col3\" >0.008487</td>\n",
              "      <td id=\"T_957da_row0_col4\" class=\"data row0 col4\" >0.003123</td>\n",
              "      <td id=\"T_957da_row0_col5\" class=\"data row0 col5\" >0.001643</td>\n",
              "      <td id=\"T_957da_row0_col6\" class=\"data row0 col6\" >-0.000346</td>\n",
              "      <td id=\"T_957da_row0_col7\" class=\"data row0 col7\" >0.002184</td>\n",
              "    </tr>\n",
              "    <tr>\n",
              "      <th id=\"T_957da_level0_row1\" class=\"row_heading level0 row1\" >rh_bankssts_curvind</th>\n",
              "      <td id=\"T_957da_row1_col0\" class=\"data row1 col0\" >-0.000297</td>\n",
              "      <td id=\"T_957da_row1_col1\" class=\"data row1 col1\" >1.000000</td>\n",
              "      <td id=\"T_957da_row1_col2\" class=\"data row1 col2\" >0.928372</td>\n",
              "      <td id=\"T_957da_row1_col3\" class=\"data row1 col3\" >0.935557</td>\n",
              "      <td id=\"T_957da_row1_col4\" class=\"data row1 col4\" >0.959855</td>\n",
              "      <td id=\"T_957da_row1_col5\" class=\"data row1 col5\" >0.771216</td>\n",
              "      <td id=\"T_957da_row1_col6\" class=\"data row1 col6\" >0.952542</td>\n",
              "      <td id=\"T_957da_row1_col7\" class=\"data row1 col7\" >0.959908</td>\n",
              "    </tr>\n",
              "    <tr>\n",
              "      <th id=\"T_957da_level0_row2\" class=\"row_heading level0 row2\" >rh_caudalanteriorcingulate_curvind</th>\n",
              "      <td id=\"T_957da_row2_col0\" class=\"data row2 col0\" >0.000601</td>\n",
              "      <td id=\"T_957da_row2_col1\" class=\"data row2 col1\" >0.928372</td>\n",
              "      <td id=\"T_957da_row2_col2\" class=\"data row2 col2\" >1.000000</td>\n",
              "      <td id=\"T_957da_row2_col3\" class=\"data row2 col3\" >0.934120</td>\n",
              "      <td id=\"T_957da_row2_col4\" class=\"data row2 col4\" >0.960866</td>\n",
              "      <td id=\"T_957da_row2_col5\" class=\"data row2 col5\" >0.839170</td>\n",
              "      <td id=\"T_957da_row2_col6\" class=\"data row2 col6\" >0.954503</td>\n",
              "      <td id=\"T_957da_row2_col7\" class=\"data row2 col7\" >0.955933</td>\n",
              "    </tr>\n",
              "    <tr>\n",
              "      <th id=\"T_957da_level0_row3\" class=\"row_heading level0 row3\" >rh_caudalmiddlefrontal_curvind</th>\n",
              "      <td id=\"T_957da_row3_col0\" class=\"data row3 col0\" >0.008487</td>\n",
              "      <td id=\"T_957da_row3_col1\" class=\"data row3 col1\" >0.935557</td>\n",
              "      <td id=\"T_957da_row3_col2\" class=\"data row3 col2\" >0.934120</td>\n",
              "      <td id=\"T_957da_row3_col3\" class=\"data row3 col3\" >1.000000</td>\n",
              "      <td id=\"T_957da_row3_col4\" class=\"data row3 col4\" >0.966122</td>\n",
              "      <td id=\"T_957da_row3_col5\" class=\"data row3 col5\" >0.792270</td>\n",
              "      <td id=\"T_957da_row3_col6\" class=\"data row3 col6\" >0.973714</td>\n",
              "      <td id=\"T_957da_row3_col7\" class=\"data row3 col7\" >0.963205</td>\n",
              "    </tr>\n",
              "    <tr>\n",
              "      <th id=\"T_957da_level0_row4\" class=\"row_heading level0 row4\" >rh_cuneus_curvind</th>\n",
              "      <td id=\"T_957da_row4_col0\" class=\"data row4 col0\" >0.003123</td>\n",
              "      <td id=\"T_957da_row4_col1\" class=\"data row4 col1\" >0.959855</td>\n",
              "      <td id=\"T_957da_row4_col2\" class=\"data row4 col2\" >0.960866</td>\n",
              "      <td id=\"T_957da_row4_col3\" class=\"data row4 col3\" >0.966122</td>\n",
              "      <td id=\"T_957da_row4_col4\" class=\"data row4 col4\" >1.000000</td>\n",
              "      <td id=\"T_957da_row4_col5\" class=\"data row4 col5\" >0.829728</td>\n",
              "      <td id=\"T_957da_row4_col6\" class=\"data row4 col6\" >0.982317</td>\n",
              "      <td id=\"T_957da_row4_col7\" class=\"data row4 col7\" >0.978517</td>\n",
              "    </tr>\n",
              "    <tr>\n",
              "      <th id=\"T_957da_level0_row5\" class=\"row_heading level0 row5\" >rh_entorhinal_curvind</th>\n",
              "      <td id=\"T_957da_row5_col0\" class=\"data row5 col0\" >0.001643</td>\n",
              "      <td id=\"T_957da_row5_col1\" class=\"data row5 col1\" >0.771216</td>\n",
              "      <td id=\"T_957da_row5_col2\" class=\"data row5 col2\" >0.839170</td>\n",
              "      <td id=\"T_957da_row5_col3\" class=\"data row5 col3\" >0.792270</td>\n",
              "      <td id=\"T_957da_row5_col4\" class=\"data row5 col4\" >0.829728</td>\n",
              "      <td id=\"T_957da_row5_col5\" class=\"data row5 col5\" >1.000000</td>\n",
              "      <td id=\"T_957da_row5_col6\" class=\"data row5 col6\" >0.818161</td>\n",
              "      <td id=\"T_957da_row5_col7\" class=\"data row5 col7\" >0.808134</td>\n",
              "    </tr>\n",
              "    <tr>\n",
              "      <th id=\"T_957da_level0_row6\" class=\"row_heading level0 row6\" >rh_fusiform_curvind</th>\n",
              "      <td id=\"T_957da_row6_col0\" class=\"data row6 col0\" >-0.000346</td>\n",
              "      <td id=\"T_957da_row6_col1\" class=\"data row6 col1\" >0.952542</td>\n",
              "      <td id=\"T_957da_row6_col2\" class=\"data row6 col2\" >0.954503</td>\n",
              "      <td id=\"T_957da_row6_col3\" class=\"data row6 col3\" >0.973714</td>\n",
              "      <td id=\"T_957da_row6_col4\" class=\"data row6 col4\" >0.982317</td>\n",
              "      <td id=\"T_957da_row6_col5\" class=\"data row6 col5\" >0.818161</td>\n",
              "      <td id=\"T_957da_row6_col6\" class=\"data row6 col6\" >1.000000</td>\n",
              "      <td id=\"T_957da_row6_col7\" class=\"data row6 col7\" >0.982168</td>\n",
              "    </tr>\n",
              "    <tr>\n",
              "      <th id=\"T_957da_level0_row7\" class=\"row_heading level0 row7\" >rh_inferiorparietal_curvind</th>\n",
              "      <td id=\"T_957da_row7_col0\" class=\"data row7 col0\" >0.002184</td>\n",
              "      <td id=\"T_957da_row7_col1\" class=\"data row7 col1\" >0.959908</td>\n",
              "      <td id=\"T_957da_row7_col2\" class=\"data row7 col2\" >0.955933</td>\n",
              "      <td id=\"T_957da_row7_col3\" class=\"data row7 col3\" >0.963205</td>\n",
              "      <td id=\"T_957da_row7_col4\" class=\"data row7 col4\" >0.978517</td>\n",
              "      <td id=\"T_957da_row7_col5\" class=\"data row7 col5\" >0.808134</td>\n",
              "      <td id=\"T_957da_row7_col6\" class=\"data row7 col6\" >0.982168</td>\n",
              "      <td id=\"T_957da_row7_col7\" class=\"data row7 col7\" >1.000000</td>\n",
              "    </tr>\n",
              "  </tbody>\n",
              "</table>\n"
            ],
            "text/plain": [
              "<pandas.io.formats.style.Styler at 0x7f8c427d4f90>"
            ]
          },
          "execution_count": 51,
          "metadata": {},
          "output_type": "execute_result"
        }
      ],
      "source": [
        "corr_matrix2 = df2[columns_names1[0:8]].corr() # correlation function\n",
        "corr_matrix2.style.background_gradient(cmap='coolwarm')"
      ]
    },
    {
      "cell_type": "markdown",
      "metadata": {
        "id": "kVhInRFx5CyX"
      },
      "source": [
        "## Principal Component Analysis (PCA) - Kmeans\n",
        "\n"
      ]
    },
    {
      "cell_type": "markdown",
      "metadata": {
        "id": "vkJ7H2pva9Dd"
      },
      "source": [
        "**PCA**"
      ]
    },
    {
      "cell_type": "code",
      "execution_count": null,
      "metadata": {
        "id": "IGaLQmVR_Ne1"
      },
      "outputs": [],
      "source": [
        "df1_std = StandardScaler().fit_transform(df1)\n",
        "df2_std = StandardScaler().fit_transform(df2)"
      ]
    },
    {
      "cell_type": "code",
      "execution_count": null,
      "metadata": {
        "colab": {
          "base_uri": "https://localhost:8080/"
        },
        "id": "DibBIdq7GKYE",
        "outputId": "86a1e183-c549-4bc1-db94-4767e756f98e"
      },
      "outputs": [
        {
          "data": {
            "text/plain": [
              "PCA()"
            ]
          },
          "execution_count": 9,
          "metadata": {},
          "output_type": "execute_result"
        }
      ],
      "source": [
        "pca1 = PCA()\n",
        "pca1.fit(df1_std)\n",
        "\n",
        "pca2 = PCA()\n",
        "pca2.fit(df2_std)"
      ]
    },
    {
      "cell_type": "code",
      "execution_count": null,
      "metadata": {
        "id": "eHuWMd5-vGw2"
      },
      "outputs": [],
      "source": [
        "pca1_evr = pca1.explained_variance_ratio_\n",
        "x_simulated1 = np.array(range(0, pca1_evr.shape[0]))\n",
        "\n",
        "pca2_evr = pca2.explained_variance_ratio_\n",
        "x_simulated2 = np.array(range(0, pca2_evr.shape[0]))"
      ]
    },
    {
      "cell_type": "code",
      "execution_count": null,
      "metadata": {
        "colab": {
          "base_uri": "https://localhost:8080/",
          "height": 521
        },
        "id": "lR58sVb4mjQE",
        "outputId": "568a7abe-7029-4b11-83ad-2b1fc681a266"
      },
      "outputs": [
        {
          "data": {
            "image/png": "[encoded data removed]",
            "text/plain": [
              "<Figure size 1440x576 with 2 Axes>"
            ]
          },
          "metadata": {},
          "output_type": "display_data"
        }
      ],
      "source": [
        "#Plot the variance explained to know the number of components to choose\n",
        "plt.figure(figsize = (20,8))\n",
        "plt.subplot(1,2,1)\n",
        "plt.plot(x_simulated1, pca1_evr.cumsum(), marker = 'o', linestyle = '--', color = 'b')\n",
        "plt.axhline(y = 0.8, color = 'c', linestyle = '-')\n",
        "idx1 = np.argwhere(np.diff(np.sign(pca1_evr.cumsum() - 0.8))).flatten()\n",
        "plt.axvline(x = idx1, color = 'c', linestyle = '-')\n",
        "plt.title('Explained variance by components of CN', fontsize = 20)\n",
        "plt.xlabel('Number of components = {}'.format(pca1_evr.shape[0]), fontsize = 13)\n",
        "plt.ylabel('Cumulative explained variance', fontsize = 13)\n",
        "plt.xlim((0,idx1+10))\n",
        "\n",
        "plt.subplot(1,2,2)\n",
        "plt.plot(x_simulated2, pca2_evr.cumsum(), marker = 'o', linestyle = '--', color = 'r')\n",
        "plt.axhline(y = 0.8, color = 'm', linestyle = '-')\n",
        "idx2 = np.argwhere(np.diff(np.sign(pca2_evr.cumsum() - 0.8))).flatten()\n",
        "plt.axvline(x = idx2, color = 'm', linestyle = '-')\n",
        "plt.title('Explained variance by components of MCI', fontsize = 20)\n",
        "plt.xlabel('Number of components = {}'.format(pca2_evr.shape[0]), fontsize = 13)\n",
        "plt.ylabel('Cumulative explained variance', fontsize = 13)\n",
        "plt.xlim((0,idx2+10))\n",
        "\n",
        "plt.show()"
      ]
    },
    {
      "cell_type": "code",
      "execution_count": null,
      "metadata": {
        "id": "Hjb6xKODupp_"
      },
      "outputs": [],
      "source": [
        "pca1 = PCA(n_components = idx1[0])\n",
        "pca1.fit(df1_std)\n",
        "df1_pca = pca1.transform(df1_std)\n",
        "\n",
        "pca2 = PCA(n_components= idx2[0])\n",
        "pca2.fit(df2_std)\n",
        "df2_pca = pca2.transform(df2_std)"
      ]
    },
    {
      "cell_type": "markdown",
      "metadata": {
        "id": "XrB-fznQa3M8"
      },
      "source": [
        "**K-means**"
      ]
    },
    {
      "cell_type": "code",
      "execution_count": null,
      "metadata": {
        "id": "aQz3FHxyrvnK"
      },
      "outputs": [],
      "source": [
        "wcss = []\n",
        "wcss2 = []\n",
        "\n",
        "for i in range(1,21):\n",
        "    kmeans_pca1 = KMeans(n_clusters = i, init = 'random', n_init = 5, random_state = 109).fit(df1_pca)\n",
        "    wcss.append(kmeans_pca1.inertia_)\n",
        "    kmeans_pca2 = KMeans(n_clusters = i, init = 'random', n_init = 5, random_state = 109).fit(df2_pca)\n",
        "    wcss2.append(kmeans_pca2.inertia_)"
      ]
    },
    {
      "cell_type": "code",
      "execution_count": null,
      "metadata": {
        "colab": {
          "base_uri": "https://localhost:8080/",
          "height": 523
        },
        "id": "mLPgp3zTJr-N",
        "outputId": "9a46db05-f819-48e0-9a03-dad566b14d24"
      },
      "outputs": [
        {
          "data": {
            "image/png": "[encoded data removed]",
            "text/plain": [
              "<Figure size 1440x576 with 2 Axes>"
            ]
          },
          "metadata": {},
          "output_type": "display_data"
        }
      ],
      "source": [
        "#Plot the K's to choose\n",
        "plt.figure(figsize = (20,8))\n",
        "\n",
        "plt.subplot(1,2,1)\n",
        "plt.plot(range(1,len(wcss)+1),wcss, marker = 'o', linestyle = '--', color = 'b')\n",
        "plt.axvline(x = 9, color = 'c', linestyle = '-')\n",
        "plt.xlabel('Number of clusters', fontsize = 13)\n",
        "plt.ylabel('Inertia', fontsize = 13)\n",
        "plt.title('The Elbow method showing the optimal $K$ for CN', fontsize = 20)\n",
        "\n",
        "plt.subplot(1,2,2)\n",
        "plt.plot(range(1,len(wcss2)+1),wcss2, marker = 'o', linestyle = '--', color = 'r')\n",
        "plt.axvline(x = 17, color = 'm', linestyle = '-')\n",
        "plt.xlabel('Number of clusters', fontsize = 13)\n",
        "plt.ylabel('Inertia', fontsize = 13)\n",
        "plt.title('The Elbow method showing the optimal $K$ for MCI', fontsize = 20)\n",
        "\n",
        "plt.show()"
      ]
    },
    {
      "cell_type": "code",
      "execution_count": null,
      "metadata": {
        "id": "XSA7oYDWtdou"
      },
      "outputs": [],
      "source": [
        "kmeans_pca1 = KMeans(n_clusters = 9, init = 'random', n_init = 5, random_state = 109).fit(df1_pca)\n",
        "kmeans_pca2 = KMeans(n_clusters = 17, init = 'random', n_init = 5, random_state = 109).fit(df2_pca)"
      ]
    },
    {
      "cell_type": "code",
      "execution_count": null,
      "metadata": {
        "id": "SBeKR1I2Atla"
      },
      "outputs": [],
      "source": [
        "df1_pca_kmeans = pd.concat([df1, pd.DataFrame(df1_pca)], axis = 1)\n",
        "df1_pca_kmeans['Segments k-means pca'] = kmeans_pca1.labels_\n",
        "\n",
        "df2_pca_kmeans = pd.concat([df2, pd.DataFrame(df2_pca)], axis = 1)\n",
        "df2_pca_kmeans['Segments k-means pca'] = kmeans_pca2.labels_"
      ]
    },
    {
      "cell_type": "code",
      "execution_count": null,
      "metadata": {
        "colab": {
          "base_uri": "https://localhost:8080/"
        },
        "id": "RfbkkYEjTBPF",
        "outputId": "a73c10f4-3be8-4e28-f725-93022720453c"
      },
      "outputs": [
        {
          "name": "stdout",
          "output_type": "stream",
          "text": [
            "<class 'pandas.core.frame.DataFrame'>\n",
            "RangeIndex: 12358 entries, 0 to 12357\n",
            "Columns: 2430 entries, Unnamed: 0 to Segments k-means pca\n",
            "dtypes: float64(2427), int32(1), int64(2)\n",
            "memory usage: 229.1 MB\n"
          ]
        }
      ],
      "source": [
        "df1_pca_kmeans.info()"
      ]
    },
    {
      "cell_type": "code",
      "execution_count": null,
      "metadata": {
        "colab": {
          "base_uri": "https://localhost:8080/",
          "height": 521
        },
        "id": "-IDWLKxLDBDV",
        "outputId": "fc258a29-4c1e-4de8-a041-37f75fead362"
      },
      "outputs": [
        {
          "data": {
            "text/plain": [
              "Text(0, 0.5, 'Cluster')"
            ]
          },
          "execution_count": 18,
          "metadata": {},
          "output_type": "execute_result"
        },
        {
          "data": {
            "image/png": "[encoded data removed]",
            "text/plain": [
              "<Figure size 1440x576 with 2 Axes>"
            ]
          },
          "metadata": {},
          "output_type": "display_data"
        }
      ],
      "source": [
        "plt.figure(figsize = (20,8))\n",
        "plt.subplot(1,2,1)\n",
        "df1_pca_kmeans['Segments k-means pca'].plot(kind = 'line', color = 'b')\n",
        "plt.title('Clusters by PCA and K-means components for CN', fontsize = 20)\n",
        "plt.ylabel('Cluster', fontsize = 13)\n",
        "\n",
        "plt.subplot(1,2,2)\n",
        "df2_pca_kmeans['Segments k-means pca'].plot(kind = 'line', color = 'r')\n",
        "plt.title('Clusters by PCA and K-means components for MCI', fontsize = 20)\n",
        "plt.ylabel('Cluster', fontsize = 13)\n",
        "#plt.xlim((0,1000))"
      ]
    },
    {
      "cell_type": "code",
      "execution_count": null,
      "metadata": {
        "colab": {
          "base_uri": "https://localhost:8080/",
          "height": 503
        },
        "id": "le2ztwi4tzZn",
        "outputId": "6a05327b-f1d0-4e24-d7a9-5f2b9a032ef2"
      },
      "outputs": [
        {
          "data": {
            "image/png": "[encoded data removed]",
            "text/plain": [
              "<Figure size 1440x576 with 2 Axes>"
            ]
          },
          "metadata": {},
          "output_type": "display_data"
        }
      ],
      "source": [
        "plt.figure(figsize = (20,8))\n",
        "\n",
        "plt.subplot(1,2,1)\n",
        "df1_pca_kmeans['Segments k-means pca'].plot(kind = 'density', color = 'b')\n",
        "plt.title('Density of clusters by PCA and K-means components for CN', fontsize = 18)\n",
        "\n",
        "plt.subplot(1,2,2)\n",
        "df2_pca_kmeans['Segments k-means pca'].plot(kind = 'density', color = 'r')\n",
        "plt.title('Density of clusters by PCA and K-means components for MCI', fontsize = 18)\n",
        "\n",
        "plt.show()"
      ]
    },
    {
      "cell_type": "code",
      "execution_count": null,
      "metadata": {
        "colab": {
          "base_uri": "https://localhost:8080/"
        },
        "id": "etcU-s7Fov4A",
        "outputId": "6e5560bc-755a-47ec-d2aa-abcd5834ef65"
      },
      "outputs": [
        {
          "data": {
            "text/plain": [
              "4    9018\n",
              "6    1002\n",
              "7     835\n",
              "1     668\n",
              "2     167\n",
              "8     167\n",
              "0     167\n",
              "3     167\n",
              "5     167\n",
              "Name: Segments k-means pca, dtype: int64"
            ]
          },
          "execution_count": 20,
          "metadata": {},
          "output_type": "execute_result"
        }
      ],
      "source": [
        "df1_pca_kmeans['Segments k-means pca'].value_counts()"
      ]
    },
    {
      "cell_type": "code",
      "execution_count": null,
      "metadata": {
        "colab": {
          "base_uri": "https://localhost:8080/"
        },
        "id": "rOf2NR7cvT4A",
        "outputId": "1f0adcc6-24b5-462e-9b0f-6b9ab8ed4c93"
      },
      "outputs": [
        {
          "data": {
            "text/plain": [
              "14    7657\n",
              "10    3211\n",
              "6     1976\n",
              "8     1482\n",
              "7      988\n",
              "2      247\n",
              "5      247\n",
              "3      247\n",
              "4      247\n",
              "1      247\n",
              "15     247\n",
              "13     247\n",
              "11     247\n",
              "0      247\n",
              "16     247\n",
              "12     247\n",
              "9      247\n",
              "Name: Segments k-means pca, dtype: int64"
            ]
          },
          "execution_count": 21,
          "metadata": {},
          "output_type": "execute_result"
        }
      ],
      "source": [
        "df2_pca_kmeans['Segments k-means pca'].value_counts()"
      ]
    },
    {
      "cell_type": "markdown",
      "metadata": {
        "id": "herhpTx-pxvq"
      },
      "source": [
        "## Linear Discriminant Analysis (LDA)\n",
        "\n",
        "\n",
        "\n",
        "\n",
        "\n",
        "\n"
      ]
    },
    {
      "cell_type": "code",
      "execution_count": null,
      "metadata": {
        "id": "U7vONJjDphIq"
      },
      "outputs": [],
      "source": [
        "from sklearn.model_selection import train_test_split\n",
        "\n",
        "y1 = df1_pca_kmeans['Segments k-means pca']\n",
        "X1 = df1.drop(columns = ['label'])\n",
        "\n",
        "X_train1, X_test1, y_train1, y_test1 = train_test_split(X1, y1, test_size=0.2, random_state=0)\n",
        "\n",
        "y2 = df2_pca_kmeans['Segments k-means pca']\n",
        "X2 = df2.drop(columns = ['label'])\n",
        "\n",
        "X_train2, X_test2, y_train2, y_test2 = train_test_split(X2, y2, test_size=0.2, random_state=0)"
      ]
    },
    {
      "cell_type": "code",
      "execution_count": null,
      "metadata": {
        "id": "TemR1HlR5lkp"
      },
      "outputs": [],
      "source": [
        "from sklearn.preprocessing import StandardScaler\n",
        "\n",
        "sc = StandardScaler()\n",
        "X_train1 = sc.fit_transform(X_train1)\n",
        "X_test1 = sc.transform(X_test1)\n",
        "\n",
        "X_train2 = sc.fit_transform(X_train2)\n",
        "X_test2 = sc.transform(X_test2)"
      ]
    },
    {
      "cell_type": "code",
      "execution_count": null,
      "metadata": {
        "id": "8MQMPbEe9EGM"
      },
      "outputs": [],
      "source": [
        "from sklearn.discriminant_analysis import LinearDiscriminantAnalysis as LDA\n",
        "\n",
        "lda1 = LDA(n_components = df1_pca_kmeans['Segments k-means pca'].max() )\n",
        "X_train1 = lda1.fit_transform(X_train1, y_train1)\n",
        "X_test1 = lda1.transform(X_test1)\n",
        "\n",
        "lda2 = LDA(n_components = df2_pca_kmeans['Segments k-means pca'].max())\n",
        "X_train2 = lda2.fit_transform(X_train2, y_train2)\n",
        "X_test2 = lda2.transform(X_test2)"
      ]
    },
    {
      "cell_type": "code",
      "execution_count": null,
      "metadata": {
        "id": "Ie-xqyVV_Mjm"
      },
      "outputs": [],
      "source": [
        "from sklearn.ensemble import RandomForestClassifier\n",
        "\n",
        "classifier1 = RandomForestClassifier(max_depth=2, random_state=42)\n",
        "\n",
        "classifier1.fit(X_train1, y_train1)\n",
        "y_pred1 = classifier1.predict(X_test1)\n",
        "\n",
        "classifier2 = RandomForestClassifier(max_depth=3, random_state=42)\n",
        "\n",
        "classifier2.fit(X_train2, y_train2)\n",
        "y_pred2 = classifier2.predict(X_test2)"
      ]
    },
    {
      "cell_type": "code",
      "execution_count": null,
      "metadata": {
        "colab": {
          "base_uri": "https://localhost:8080/"
        },
        "id": "TjLRp0b9_ao8",
        "outputId": "cc1f1627-a62d-4139-a357-36ecfbdc678b"
      },
      "outputs": [
        {
          "name": "stdout",
          "output_type": "stream",
          "text": [
            "Accuracy of CN: 0.9352750809061489\n",
            "Accuracy of MCI: 0.9280634573304157\n"
          ]
        }
      ],
      "source": [
        "from sklearn.metrics import confusion_matrix\n",
        "from sklearn.metrics import accuracy_score\n",
        "\n",
        "print('Accuracy of CN: ' + str(accuracy_score(y_test1, y_pred1)))\n",
        "print('Accuracy of MCI: ' + str(accuracy_score(y_test2, y_pred2)))"
      ]
    },
    {
      "cell_type": "code",
      "execution_count": null,
      "metadata": {
        "colab": {
          "base_uri": "https://localhost:8080/",
          "height": 500
        },
        "id": "EBM6p02THNTS",
        "outputId": "874185d3-da2c-49a9-e9cb-4f596d9c9804"
      },
      "outputs": [
        {
          "data": {
            "image/png": "[encoded data removed]",
            "text/plain": [
              "<Figure size 1440x576 with 2 Axes>"
            ]
          },
          "metadata": {},
          "output_type": "display_data"
        }
      ],
      "source": [
        "plt.figure(figsize = (20,8))\n",
        "plt.subplot(1,2,1)\n",
        "y_test1.plot(kind = 'density', color = 'b', linewidth = 2, label = 'PCA & K-means')\n",
        "pd.Series(y_pred1).plot(kind = 'density', color = 'c', label = 'LDA & RFC')\n",
        "plt.title('Density classification for CN')\n",
        "plt.legend()\n",
        "\n",
        "plt.subplot(1,2,2)\n",
        "y_test2.plot(kind = 'density', color = 'r', linewidth = 2, label = 'PCA & K-means')\n",
        "pd.Series(y_pred2).plot(kind = 'density', color = 'm', label = 'LDA & RFC')\n",
        "plt.title('Density classification for MCI')\n",
        "\n",
        "plt.legend()\n",
        "plt.show()"
      ]
    }
  ],
  "metadata": {
    "colab": {
      "provenance": []
    },
    "kernelspec": {
      "display_name": "Python 3",
      "name": "python3"
    },
    "language_info": {
      "name": "python"
    }
  },
  "nbformat": 4,
  "nbformat_minor": 0
}
